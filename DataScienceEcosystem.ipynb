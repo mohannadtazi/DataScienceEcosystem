{
 "cells": [
  {
   "cell_type": "markdown",
   "id": "76140486",
   "metadata": {},
   "source": [
    "# Data Science Tools and Ecosystem"
   ]
  },
  {
   "cell_type": "markdown",
   "id": "01c7a71f",
   "metadata": {},
   "source": [
    "In this notebook, Data Science Tools and Ecosystem are summarized."
   ]
  },
  {
   "cell_type": "markdown",
   "id": "0c3f469f",
   "metadata": {},
   "source": [
    "**Objectives:**\n",
    "\n",
    "- List popular languages for Data Science\n",
    "- List popular libraries for Data Science\n",
    "- List popular tools for Data Science"
   ]
  },
  {
   "cell_type": "markdown",
   "id": "de1c05ec",
   "metadata": {},
   "source": [
    "Some of the popular languages that Data Scientists use are:\n",
    "\n",
    "1. Python\n",
    "2. R\n",
    "3. SQL\n",
    "4. Scala\n",
    "5. Julia\n",
    "6. JavaScript\n",
    "7. Java\n",
    "8. C/C++"
   ]
  },
  {
   "cell_type": "markdown",
   "id": "333a453c",
   "metadata": {},
   "source": [
    "---"
   ]
  },
  {
   "cell_type": "markdown",
   "id": "59a4fdb0",
   "metadata": {},
   "source": [
    "Some of the commonly used libraries used by Data Scientists include:\n",
    "\n",
    "1. Pandas\n",
    "2. NumPy\n",
    "3. Matplotlib\n",
    "4. Scikitlearn\n",
    "5. TensorFlow\n",
    "6. SciPy\n",
    "7. PyTorch\n",
    "8. Keras\n",
    "9. Seaborn\n",
    "10. Plotly\n",
    "11. Beautiful Soup\n",
    "12. Scrapy\n",
    "13. NLTK\n",
    "14. OpenCV\n",
    "15. Ggplot2"
   ]
  },
  {
   "cell_type": "markdown",
   "id": "baac0672",
   "metadata": {},
   "source": [
    "---"
   ]
  },
  {
   "cell_type": "markdown",
   "id": "cf5f2e52",
   "metadata": {},
   "source": [
    "| Data Science Tools |\n",
    "| :----------------- |\n",
    "| Jupyter Notebook |\n",
    "| R Studio |\n",
    "| SAS |\n",
    "| TensorFlow |\n",
    "| Weka |\n",
    "| Anaconda |\n",
    "| Alteryx Analytics Automation Platform |\n",
    "| Amazon SageMaker |\n",
    "| Azure Machine Learning |\n",
    "| BigML |\n",
    "| Databricks Lakehouse Platform |\n",
    "| Dataiku |\n",
    "| DataRobot AI Cloud |\n",
    "| Domino Enterprise MLOps Platform |\n",
    "| Google Cloud Vertex AI |\n",
    "| H2O AI Cloud |\n",
    "| IBM Watson Studio |\n",
    "| Knime |\n",
    "| Qubole |\n",
    "| RapidMiner |\n",
    "| Saturn Cloud |\n",
    "| Tibco Data Science |\n"
   ]
  },
  {
   "cell_type": "markdown",
   "id": "33690227",
   "metadata": {},
   "source": [
    "### Below are a few examples of evaluating arithmetic expressions in Python"
   ]
  },
  {
   "cell_type": "code",
   "execution_count": 1,
   "id": "0cb78759",
   "metadata": {},
   "outputs": [
    {
     "data": {
      "text/plain": [
       "17"
      ]
     },
     "execution_count": 1,
     "metadata": {},
     "output_type": "execute_result"
    }
   ],
   "source": [
    "#This a simple arithmetic expression to mutiply then add integers\n",
    "\n",
    "(3*4)+5"
   ]
  },
  {
   "cell_type": "code",
   "execution_count": 2,
   "id": "65b729ff",
   "metadata": {},
   "outputs": [
    {
     "data": {
      "text/plain": [
       "3.3333333333333335"
      ]
     },
     "execution_count": 2,
     "metadata": {},
     "output_type": "execute_result"
    }
   ],
   "source": [
    "#This will convert 200 minutes to hours by diving by 60\n",
    "\n",
    "200 / 60"
   ]
  },
  {
   "cell_type": "markdown",
   "id": "8f962045",
   "metadata": {},
   "source": [
    "---"
   ]
  },
  {
   "cell_type": "markdown",
   "id": "6b290ebb",
   "metadata": {},
   "source": [
    "## Author\n",
    "Mohannad TAZI"
   ]
  }
 ],
 "metadata": {
  "kernelspec": {
   "display_name": "Python 3 (ipykernel)",
   "language": "python",
   "name": "python3"
  },
  "language_info": {
   "codemirror_mode": {
    "name": "ipython",
    "version": 3
   },
   "file_extension": ".py",
   "mimetype": "text/x-python",
   "name": "python",
   "nbconvert_exporter": "python",
   "pygments_lexer": "ipython3",
   "version": "3.11.7"
  }
 },
 "nbformat": 4,
 "nbformat_minor": 5
}
